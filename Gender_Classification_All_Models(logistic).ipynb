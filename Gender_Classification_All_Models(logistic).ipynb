{
  "nbformat": 4,
  "nbformat_minor": 0,
  "metadata": {
    "colab": {
      "provenance": [],
      "include_colab_link": true
    },
    "kernelspec": {
      "name": "python3",
      "display_name": "Python 3"
    },
    "language_info": {
      "name": "python"
    }
  },
  "cells": [
    {
      "cell_type": "markdown",
      "metadata": {
        "id": "view-in-github",
        "colab_type": "text"
      },
      "source": [
        "<a href=\"https://colab.research.google.com/github/DylanCTY/TextAnalyticsProject_Group5/blob/main/Gender_Classification_All_Models(logistic).ipynb\" target=\"_parent\"><img src=\"https://colab.research.google.com/assets/colab-badge.svg\" alt=\"Open In Colab\"/></a>"
      ]
    },
    {
      "cell_type": "code",
      "execution_count": null,
      "metadata": {
        "id": "BFpRdjEm5lcc"
      },
      "outputs": [],
      "source": [
        "!unzip Gender.zip"
      ]
    },
    {
      "cell_type": "code",
      "source": [
        "#use  pydub library to provides a simple interface to work with audio files\n",
        "!pip install pydub"
      ],
      "metadata": {
        "id": "im47Nlu--B3V",
        "colab": {
          "base_uri": "https://localhost:8080/"
        },
        "outputId": "0e28921a-8c58-441b-dbc7-7f973f809bed"
      },
      "execution_count": 2,
      "outputs": [
        {
          "output_type": "stream",
          "name": "stdout",
          "text": [
            "Collecting pydub\n",
            "  Downloading pydub-0.25.1-py2.py3-none-any.whl (32 kB)\n",
            "Installing collected packages: pydub\n",
            "Successfully installed pydub-0.25.1\n"
          ]
        }
      ]
    },
    {
      "cell_type": "markdown",
      "source": [
        "Converting .m4a files to .wav"
      ],
      "metadata": {
        "id": "wA7KlTYD_Q8o"
      }
    },
    {
      "cell_type": "code",
      "source": [
        "import os\n",
        "from pydub import AudioSegment\n",
        "\n",
        "# Function to convert .m4a files to .wav format\n",
        "def convert_m4a_to_wav(input_folder, output_folder):\n",
        "    # Create the output folder if it doesn't exist\n",
        "    os.makedirs(output_folder, exist_ok=True)\n",
        "\n",
        "    # Loop through each file in the input folder\n",
        "    for filename in os.listdir(input_folder):\n",
        "        if filename.endswith(\".m4a\"):\n",
        "            # Construct input and output file paths\n",
        "            input_file = os.path.join(input_folder, filename)\n",
        "            output_file = os.path.join(output_folder, os.path.splitext(filename)[0] + \".wav\")\n",
        "\n",
        "            # Load the .m4a file\n",
        "            audio = AudioSegment.from_file(input_file, format=\"m4a\")\n",
        "\n",
        "            # Export the audio to .wav format\n",
        "            audio.export(output_file, format=\"wav\")\n",
        "\n",
        "# Input folder containing .m4a files\n",
        "input_folder = \"Gender\"\n",
        "\n",
        "# Output folder where .wav files will be saved\n",
        "output_folder = \"Gender_WAV\"\n",
        "\n",
        "# Convert .m4a files to .wav format\n",
        "convert_m4a_to_wav(input_folder, output_folder)\n",
        "\n",
        "print(\"Conversion completed successfully.\")"
      ],
      "metadata": {
        "colab": {
          "base_uri": "https://localhost:8080/"
        },
        "id": "fiU2dNuK-FhI",
        "outputId": "ddf00437-cd42-4999-ed0a-e86df1300974"
      },
      "execution_count": 3,
      "outputs": [
        {
          "output_type": "stream",
          "name": "stdout",
          "text": [
            "Conversion completed successfully.\n"
          ]
        }
      ]
    },
    {
      "cell_type": "markdown",
      "source": [
        "Preprocessing:\n",
        "Resampling the Audio:\n",
        "Resampling is done to ensure that all audio files have the same sampling rate. This is important for consistency in feature extraction.\n"
      ],
      "metadata": {
        "id": "ERKAV-G3-u3M"
      }
    },
    {
      "cell_type": "code",
      "source": [
        "import librosa\n",
        "\n",
        "def resample_audio(audio_file, target_sr=16000):\n",
        "    y, sr = librosa.load(audio_file, sr=target_sr)\n",
        "    return y, sr\n"
      ],
      "metadata": {
        "id": "XKfQo4vr-wRf"
      },
      "execution_count": 4,
      "outputs": []
    },
    {
      "cell_type": "markdown",
      "source": [
        "Normalizing Volume Levels:\n",
        "Normalizing volume levels ensures that the amplitude of all audio files is within a consistent range."
      ],
      "metadata": {
        "id": "5n0_KN07-5X-"
      }
    },
    {
      "cell_type": "code",
      "source": [
        "from pydub import AudioSegment\n",
        "\n",
        "def normalize_volume(audio_file, target_dBFS=-20):\n",
        "    sound = AudioSegment.from_wav(audio_file)\n",
        "    change_in_dBFS = target_dBFS - sound.dBFS\n",
        "    normalized_sound = sound + change_in_dBFS\n",
        "    return normalized_sound.export(audio_file, format=\"wav\")\n"
      ],
      "metadata": {
        "id": "2NiShowJ-zRH"
      },
      "execution_count": 5,
      "outputs": []
    },
    {
      "cell_type": "markdown",
      "source": [
        "Removing Noise:\n",
        "Noise removal helps improve the signal-to-noise ratio in the audio, making it easier for the model to extract relevant features."
      ],
      "metadata": {
        "id": "Oja6Jfk0-9nT"
      }
    },
    {
      "cell_type": "code",
      "source": [
        "import numpy as np\n",
        "import scipy.signal as sg\n",
        "\n",
        "def remove_noise(audio_file, window_length=21, threshold=0.05):\n",
        "    y, sr = librosa.load(audio_file)\n",
        "    # Apply a low-pass filter to remove high-frequency noise\n",
        "    y_filtered = sg.medfilt(y, kernel_size=window_length)\n",
        "    # Compute the absolute difference between the original and filtered signals\n",
        "    diff = np.abs(y - y_filtered)\n",
        "    # Use a threshold to identify noisy parts\n",
        "    noisy_indices = np.where(diff > threshold)[0]\n",
        "    # Replace noisy parts with the filtered signal\n",
        "    y_cleaned = np.copy(y)\n",
        "    y_cleaned[noisy_indices] = y_filtered[noisy_indices]\n",
        "    return y_cleaned, sr\n"
      ],
      "metadata": {
        "id": "GGoTCu8J_B6X"
      },
      "execution_count": 6,
      "outputs": []
    },
    {
      "cell_type": "code",
      "source": [
        "import os\n",
        "\n",
        "# Define the path to the folder containing audio files\n",
        "folder_path = \"Gender_WAV\"\n",
        "\n",
        "# Iterate over each audio file in the folder\n",
        "for filename in os.listdir(folder_path):\n",
        "    if filename.endswith(\".wav\"):\n",
        "        audio_file_path = os.path.join(folder_path, filename)\n",
        "\n",
        "        # Resample the audio\n",
        "        y_resampled, sr_resampled = resample_audio(audio_file_path)\n",
        "\n",
        "        # Normalize volume levels\n",
        "        normalize_volume(audio_file_path)\n",
        "\n",
        "        # Remove noise\n",
        "        y_cleaned, sr_cleaned = remove_noise(audio_file_path)\n"
      ],
      "metadata": {
        "id": "d79JCLyk_Jk8"
      },
      "execution_count": 7,
      "outputs": []
    },
    {
      "cell_type": "markdown",
      "source": [
        "Statistical Features\n",
        "1. Means\n",
        "2. Standard Deviation\n",
        "3. Maximum Value\n",
        "4. Minimum Value"
      ],
      "metadata": {
        "id": "q4Kje8-8Bk8K"
      }
    },
    {
      "cell_type": "code",
      "source": [
        "import os\n",
        "import numpy as np\n",
        "import librosa\n",
        "\n",
        "# Function to extract MFCC features\n",
        "def extract_mfcc(audio_file):\n",
        "    y, sr = librosa.load(audio_file)\n",
        "    mfccs = librosa.feature.mfcc(y=y, sr=sr, n_mfcc=13)\n",
        "    return mfccs.T  # Transpose to have features along the columns\n",
        "\n",
        "# Function to compute statistical features\n",
        "def compute_statistics(features):\n",
        "    mean = np.mean(features, axis=0)\n",
        "    std_dev = np.std(features, axis=0)\n",
        "    min_val = np.min(features, axis=0)\n",
        "    max_val = np.max(features, axis=0)\n",
        "    return mean, std_dev, min_val, max_val\n",
        "\n",
        "# Directory containing audio files\n",
        "data_dir = \"Gender_WAV\"\n",
        "\n",
        "# List to store data\n",
        "file_names = []\n",
        "gender_labels = []\n",
        "mean_features = []\n",
        "std_dev_features = []\n",
        "min_features = []\n",
        "max_features = []\n",
        "\n",
        "# Iterate over each audio file in the directory\n",
        "for filename in os.listdir(data_dir):\n",
        "    if filename.endswith(\".wav\"):\n",
        "        audio_file_path = os.path.join(data_dir, filename)\n",
        "\n",
        "        # Extract gender label from file name (assuming file name format: <gender>_<ID>.wav)\n",
        "        gender_label = 1 if \"female\" in filename else 0\n",
        "\n",
        "        # Compute statistical features\n",
        "        y, sr = librosa.load(audio_file_path)\n",
        "        # Extract statistical features directly from the audio\n",
        "        mean, std_dev, min_val, max_val = compute_statistics(y)\n",
        "\n",
        "        # Append data to lists\n",
        "        file_names.append(filename)\n",
        "        gender_labels.append(gender_label)\n",
        "        mean_features.append(mean.tolist())\n",
        "        std_dev_features.append(std_dev.tolist())\n",
        "        min_features.append(min_val.tolist())\n",
        "        max_features.append(max_val.tolist())\n",
        "\n",
        "# Save data to a text file\n",
        "with open(\"audio_data.txt\", \"w\") as file:\n",
        "    file.write(\"Name,Gender,Mean,Std Dev,Min,Max\\n\")\n",
        "    for i in range(len(file_names)):\n",
        "        file.write(f\"{file_names[i]},{gender_labels[i]},{mean_features[i]},{std_dev_features[i]},{min_features[i]},{max_features[i]}\\n\")\n"
      ],
      "metadata": {
        "id": "mb2NC8pTBkG-"
      },
      "execution_count": 8,
      "outputs": []
    },
    {
      "cell_type": "markdown",
      "source": [
        "Logistic Regression Model"
      ],
      "metadata": {
        "id": "q8dbt8M1Svdc"
      }
    },
    {
      "cell_type": "code",
      "source": [
        "from sklearn.model_selection import train_test_split\n",
        "\n",
        "# Load data from the text file\n",
        "data = np.loadtxt(\"audio_data.txt\", delimiter=\",\", skiprows=1, dtype=str)\n",
        "\n",
        "# Extract features and labels\n",
        "X = data[:, 2:].astype(float)  # Features (mean, std dev, min, max)\n",
        "y = data[:, 1].astype(int)  # Gender labels\n",
        "\n",
        "# Split dataset into training and testing sets\n",
        "X_train, X_test, y_train, y_test = train_test_split(X, y, test_size=0.2, random_state=42)\n",
        "\n",
        "# Print the shapes of the training and testing sets\n",
        "print(\"Training set shape:\", X_train.shape, y_train.shape)\n",
        "print(\"Testing set shape:\", X_test.shape, y_test.shape)\n"
      ],
      "metadata": {
        "colab": {
          "base_uri": "https://localhost:8080/"
        },
        "id": "JZr3b1rNGqZN",
        "outputId": "cff4278b-0b83-41c0-84c5-4c23a2034e95"
      },
      "execution_count": null,
      "outputs": [
        {
          "output_type": "stream",
          "name": "stdout",
          "text": [
            "Training set shape: (80, 4) (80,)\n",
            "Testing set shape: (20, 4) (20,)\n"
          ]
        }
      ]
    },
    {
      "cell_type": "code",
      "source": [
        "from sklearn.linear_model import LogisticRegression\n",
        "from sklearn.preprocessing import StandardScaler\n",
        "from sklearn.metrics import accuracy_score\n",
        "\n",
        "# Standardize features\n",
        "scaler = StandardScaler()\n",
        "X_train_scaled = scaler.fit_transform(X_train)\n",
        "X_test_scaled = scaler.transform(X_test)\n",
        "\n",
        "# Build logistic regression model\n",
        "model = LogisticRegression()\n",
        "\n",
        "# Train the model\n",
        "model.fit(X_train_scaled, y_train)\n",
        "\n",
        "# Predict on the testing set\n",
        "y_pred = model.predict(X_test_scaled)\n",
        "\n",
        "# Evaluate model performance\n",
        "accuracy = accuracy_score(y_test, y_pred)\n",
        "print(\"Accuracy:\", accuracy)\n"
      ],
      "metadata": {
        "colab": {
          "base_uri": "https://localhost:8080/"
        },
        "id": "j_yU_4P0IPhx",
        "outputId": "d9f3439c-a202-44aa-8672-efab8d951731"
      },
      "execution_count": null,
      "outputs": [
        {
          "output_type": "stream",
          "name": "stdout",
          "text": [
            "Accuracy: 0.3\n"
          ]
        }
      ]
    },
    {
      "cell_type": "code",
      "source": [
        "# Define an expanded hyperparameters grid\n",
        "param_grid = {\n",
        "    'C': [0.001, 0.01, 0.1, 1, 10, 100, 1000],  # Regularization strength\n",
        "    'solver': ['liblinear', 'lbfgs', 'sag', 'newton-cg'],  # Optimization algorithm\n",
        "    'penalty': ['l2'],  # Regularization penalty compatible with lbfgs, sag, and newton-cg\n",
        "    'max_iter': [100, 200, 300]  # Maximum number of iterations\n",
        "}\n",
        "\n",
        "# Perform grid search cross-validation\n",
        "grid_search = GridSearchCV(estimator=model, param_grid=param_grid, cv=5, scoring='accuracy')\n",
        "grid_search.fit(X_train_scaled, y_train)\n",
        "\n",
        "# Print the best hyperparameters found\n",
        "print(\"Best Hyperparameters:\", grid_search.best_params_)\n",
        "\n",
        "# Evaluate the best model\n",
        "best_model = grid_search.best_estimator_\n",
        "y_pred = best_model.predict(X_test_scaled)\n",
        "accuracy = accuracy_score(y_test, y_pred)\n",
        "print(\"Accuracy:\", accuracy)\n"
      ],
      "metadata": {
        "id": "H6riYgvkJf5z"
      },
      "execution_count": null,
      "outputs": []
    },
    {
      "cell_type": "markdown",
      "source": [
        "Evaluation Metrics"
      ],
      "metadata": {
        "id": "DkLSlD7fS1UM"
      }
    },
    {
      "cell_type": "code",
      "source": [
        "from sklearn.metrics import classification_report\n",
        "\n",
        "# Generate classification report\n",
        "report = classification_report(y_test, y_pred)\n",
        "\n",
        "print(\"Classification Report:\")\n",
        "print(report)\n"
      ],
      "metadata": {
        "colab": {
          "base_uri": "https://localhost:8080/"
        },
        "id": "NrujyAIcG45k",
        "outputId": "9bad1b3a-030f-4999-dd00-1fa3633cb9ba"
      },
      "execution_count": null,
      "outputs": [
        {
          "output_type": "stream",
          "name": "stdout",
          "text": [
            "Classification Report:\n",
            "              precision    recall  f1-score   support\n",
            "\n",
            "           0       0.35      0.86      0.50         7\n",
            "           1       0.67      0.15      0.25        13\n",
            "\n",
            "    accuracy                           0.40        20\n",
            "   macro avg       0.51      0.51      0.38        20\n",
            "weighted avg       0.56      0.40      0.34        20\n",
            "\n"
          ]
        }
      ]
    },
    {
      "cell_type": "markdown",
      "source": [
        "Deployment"
      ],
      "metadata": {
        "id": "8h_GfLq6S54u"
      }
    },
    {
      "cell_type": "code",
      "source": [
        "import numpy as np\n",
        "from sklearn.preprocessing import StandardScaler\n",
        "from sklearn.linear_model import LogisticRegression\n",
        "\n",
        "# Load data from the text file\n",
        "data = np.loadtxt(\"audio_data.txt\", delimiter=\",\", skiprows=1, dtype=str)\n",
        "\n",
        "# Extract features (mean, std dev, max, min) and labels from the data\n",
        "features = data[:, 2:].astype(float)\n",
        "labels = data[:, 1].astype(int)\n",
        "\n",
        "# Initialize the StandardScaler\n",
        "scaler = StandardScaler()\n",
        "\n",
        "# Fit the scaler to the features\n",
        "scaler.fit(features)\n",
        "\n",
        "# Scale features using the fitted scaler\n",
        "scaled_features = scaler.transform(features)\n",
        "\n",
        "# Initialize the logistic regression model\n",
        "model = LogisticRegression(C=0.1, max_iter=100, penalty='l2', solver='lbfgs')\n",
        "\n",
        "# Fit the logistic regression model to the scaled features and labels\n",
        "model.fit(scaled_features, labels)\n",
        "\n",
        "def predict_gender_from_data(data):\n",
        "    # Scale features using the fitted scaler\n",
        "    scaled_data = scaler.transform(data)\n",
        "    # Make predictions using the trained model\n",
        "    predicted_gender = model.predict(scaled_data)\n",
        "    return predicted_gender\n",
        "\n",
        "# Predict gender using the features from the data\n",
        "predicted_genders = predict_gender_from_data(features)\n",
        "\n",
        "# Print the predicted genders\n",
        "for i in range(len(predicted_genders)):\n",
        "    if predicted_genders[i] == 0:\n",
        "        print(f\"Audio {data[i, 0]} is a female.\")\n",
        "    else:\n",
        "        print(f\"Audio {data[i, 0]} is a male.\")\n"
      ],
      "metadata": {
        "id": "SaLPu5LZKTdQ"
      },
      "execution_count": null,
      "outputs": []
    },
    {
      "cell_type": "markdown",
      "source": [
        "SVM Model"
      ],
      "metadata": {
        "id": "ipOn3hYjTKP_"
      }
    },
    {
      "cell_type": "code",
      "source": [
        "import numpy as np\n",
        "from sklearn.model_selection import train_test_split\n",
        "from sklearn.preprocessing import StandardScaler\n",
        "from sklearn.svm import SVC\n",
        "from sklearn.metrics import accuracy_score, precision_score, recall_score, f1_score\n",
        "\n",
        "# Load data from the text file\n",
        "data = np.loadtxt(\"audio_data.txt\", delimiter=\",\", skiprows=1, dtype=str)\n",
        "\n",
        "# Extract features (mean, std dev, max, min) and labels from the data\n",
        "features = data[:, 2:].astype(float)\n",
        "labels = data[:, 1].astype(int)\n",
        "\n",
        "# Split dataset into training and testing sets\n",
        "X_train, X_test, y_train, y_test = train_test_split(features, labels, test_size=0.2, random_state=42)\n",
        "\n",
        "# Feature scaling\n",
        "scaler = StandardScaler()\n",
        "X_train_scaled = scaler.fit_transform(X_train)\n",
        "X_test_scaled = scaler.transform(X_test)\n",
        "\n",
        "# Train SVM model\n",
        "svm_model = SVC(kernel='rbf', C=1.0, gamma='scale')  # You can adjust kernel, C, and gamma\n",
        "svm_model.fit(X_train_scaled, y_train)\n",
        "\n",
        "# Make predictions on the testing set\n",
        "y_pred = svm_model.predict(X_test_scaled)\n",
        "\n",
        "# Evaluate model performance\n",
        "accuracy = accuracy_score(y_test, y_pred)\n",
        "print(\"Accuracy:\", accuracy)\n"
      ],
      "metadata": {
        "colab": {
          "base_uri": "https://localhost:8080/"
        },
        "id": "iWlQ0fJ3TZpO",
        "outputId": "54bae3e2-ba42-469f-9c8c-37424b5ad56c"
      },
      "execution_count": null,
      "outputs": [
        {
          "output_type": "stream",
          "name": "stdout",
          "text": [
            "Accuracy: 0.35\n"
          ]
        }
      ]
    },
    {
      "cell_type": "markdown",
      "source": [
        "Evaluation Metrics"
      ],
      "metadata": {
        "id": "czoBgDdEiUQs"
      }
    },
    {
      "cell_type": "code",
      "source": [
        "from sklearn.metrics import classification_report\n",
        "\n",
        "# Generate classification report\n",
        "report = classification_report(y_test, y_pred)\n",
        "\n",
        "print(\"Classification Report:\")\n",
        "print(report)"
      ],
      "metadata": {
        "colab": {
          "base_uri": "https://localhost:8080/"
        },
        "id": "0Giz_xd1iPox",
        "outputId": "7737d604-89ed-49f2-80a3-3e8e19cf2851"
      },
      "execution_count": null,
      "outputs": [
        {
          "output_type": "stream",
          "name": "stdout",
          "text": [
            "Classification Report:\n",
            "              precision    recall  f1-score   support\n",
            "\n",
            "           0       0.31      0.71      0.43         7\n",
            "           1       0.50      0.15      0.24        13\n",
            "\n",
            "    accuracy                           0.35        20\n",
            "   macro avg       0.41      0.43      0.34        20\n",
            "weighted avg       0.43      0.35      0.31        20\n",
            "\n"
          ]
        }
      ]
    },
    {
      "cell_type": "markdown",
      "source": [
        "Deployment"
      ],
      "metadata": {
        "id": "l69hq426iYMC"
      }
    },
    {
      "cell_type": "code",
      "source": [
        "# Print the predicted genders\n",
        "for i in range(len(predicted_genders)):\n",
        "    if predicted_genders[i] == 0:\n",
        "        print(f\"Audio {data[i, 0]} is predicted to be a male.\")\n",
        "    else:\n",
        "        print(f\"Audio {data[i, 0]} is predicted to be a female.\")\n"
      ],
      "metadata": {
        "id": "4UN_rZb2WJIS"
      },
      "execution_count": null,
      "outputs": []
    },
    {
      "cell_type": "markdown",
      "source": [
        "Random Forest"
      ],
      "metadata": {
        "id": "BX1TS8HgW89-"
      }
    },
    {
      "cell_type": "code",
      "source": [
        "import numpy as np\n",
        "from sklearn.ensemble import RandomForestClassifier\n",
        "from sklearn.model_selection import train_test_split\n",
        "from sklearn.metrics import accuracy_score\n",
        "\n",
        "# Load data from the text file\n",
        "data = np.loadtxt(\"audio_data.txt\", delimiter=\",\", skiprows=1, dtype=str)\n",
        "\n",
        "# Extract features (mean, std dev, max, min) and labels from the data\n",
        "features = data[:, 2:].astype(float)\n",
        "labels = data[:, 1].astype(int)\n",
        "\n",
        "# Split dataset into training and testing sets\n",
        "X_train, X_test, y_train, y_test = train_test_split(features, labels, test_size=0.2, random_state=42)\n",
        "\n",
        "# Initialize the Random Forest classifier\n",
        "model = RandomForestClassifier(n_estimators=100, random_state=42)\n",
        "\n",
        "# Train the Random Forest model\n",
        "model.fit(X_train, y_train)\n",
        "\n",
        "# Predict gender using the trained model\n",
        "y_pred = model.predict(X_test)\n",
        "\n",
        "# Evaluate the model\n",
        "accuracy = accuracy_score(y_test, y_pred)\n",
        "print(\"Accuracy:\", accuracy)\n"
      ],
      "metadata": {
        "colab": {
          "base_uri": "https://localhost:8080/"
        },
        "id": "knWF7kfTW7t_",
        "outputId": "155a09f2-fb8b-4ee7-f45c-321fdde3c1ae"
      },
      "execution_count": null,
      "outputs": [
        {
          "output_type": "stream",
          "name": "stdout",
          "text": [
            "Accuracy: 0.55\n"
          ]
        }
      ]
    },
    {
      "cell_type": "markdown",
      "source": [
        "Evaluation Metrics"
      ],
      "metadata": {
        "id": "tCgSN7z0fCvv"
      }
    },
    {
      "cell_type": "code",
      "source": [
        "from sklearn.metrics import classification_report\n",
        "\n",
        "# Generate classification report\n",
        "report = classification_report(y_test, y_pred)\n",
        "\n",
        "print(\"Classification Report:\")\n",
        "print(report)\n"
      ],
      "metadata": {
        "colab": {
          "base_uri": "https://localhost:8080/"
        },
        "id": "DztbuxLQhP5c",
        "outputId": "b7c4a077-aaa1-4824-f282-d3258e2c01b0"
      },
      "execution_count": null,
      "outputs": [
        {
          "output_type": "stream",
          "name": "stdout",
          "text": [
            "Classification Report:\n",
            "              precision    recall  f1-score   support\n",
            "\n",
            "           0       0.40      0.57      0.47         7\n",
            "           1       0.70      0.54      0.61        13\n",
            "\n",
            "    accuracy                           0.55        20\n",
            "   macro avg       0.55      0.55      0.54        20\n",
            "weighted avg       0.59      0.55      0.56        20\n",
            "\n"
          ]
        }
      ]
    },
    {
      "cell_type": "markdown",
      "source": [
        "Deployment"
      ],
      "metadata": {
        "id": "Gi69TzTPhVn8"
      }
    },
    {
      "cell_type": "code",
      "source": [
        "# Print the predicted genders\n",
        "for i in range(len(predicted_genders)):\n",
        "    if predicted_genders[i] == 1:\n",
        "        print(f\"Audio {data[i, 0]} is a female.\")\n",
        "    else:\n",
        "        print(f\"Audio {data[i, 0]} is a male.\")\n"
      ],
      "metadata": {
        "id": "w2-lnYPzcndO"
      },
      "execution_count": null,
      "outputs": []
    },
    {
      "cell_type": "markdown",
      "source": [
        "Decision Trees"
      ],
      "metadata": {
        "id": "NGuTGAQgeEPz"
      }
    },
    {
      "cell_type": "code",
      "source": [
        "import numpy as np\n",
        "from sklearn.tree import DecisionTreeClassifier\n",
        "from sklearn.model_selection import train_test_split, GridSearchCV\n",
        "from sklearn.metrics import accuracy_score\n",
        "\n",
        "# Load data from the text file\n",
        "data = np.loadtxt(\"audio_data.txt\", delimiter=\",\", skiprows=1, dtype=str)\n",
        "\n",
        "# Extract features (mean, std dev, max, min) and labels from the data\n",
        "features = data[:, 2:].astype(float)\n",
        "labels = data[:, 1].astype(int)\n",
        "\n",
        "# Split dataset into training and testing sets\n",
        "X_train, X_test, y_train, y_test = train_test_split(features, labels, test_size=0.2, random_state=20)\n",
        "\n",
        "# Initialize the Decision Tree classifier\n",
        "model = DecisionTreeClassifier(random_state=42)\n",
        "\n",
        "# Train the Decision Tree model\n",
        "model.fit(X_train, y_train)\n",
        "\n",
        "# Predict gender using the trained model\n",
        "y_pred = model.predict(X_test)\n",
        "\n",
        "# Evaluate the model\n",
        "accuracy = accuracy_score(y_test, y_pred)\n",
        "print(\"Accuracy:\", accuracy)\n"
      ],
      "metadata": {
        "colab": {
          "base_uri": "https://localhost:8080/"
        },
        "id": "2OBOFZyCd5WS",
        "outputId": "9cbc2485-d350-4954-b32f-b0c61194bc3c"
      },
      "execution_count": null,
      "outputs": [
        {
          "output_type": "stream",
          "name": "stdout",
          "text": [
            "Accuracy: 0.55\n"
          ]
        }
      ]
    },
    {
      "cell_type": "markdown",
      "source": [
        "Tuning"
      ],
      "metadata": {
        "id": "VQw8BJPjeNY0"
      }
    },
    {
      "cell_type": "code",
      "source": [
        "# Define hyperparameters to tune\n",
        "param_grid = {\n",
        "    'max_depth': [None, 10, 20, 30],\n",
        "    'min_samples_split': [2, 5, 10],\n",
        "    'min_samples_leaf': [1, 2, 4]\n",
        "}\n",
        "\n",
        "# Initialize GridSearchCV with the classifier and hyperparameters\n",
        "grid_search = GridSearchCV(model, param_grid, cv=5, scoring='accuracy')\n",
        "\n",
        "# Perform grid search to find the best hyperparameters\n",
        "grid_search.fit(X_train, y_train)\n",
        "\n",
        "# Get the best hyperparameters\n",
        "best_params = grid_search.best_params_\n",
        "print(\"Best Hyperparameters:\", best_params)\n",
        "\n",
        "# Train the Decision Tree model with the best hyperparameters\n",
        "best_model = DecisionTreeClassifier(**best_params, random_state=42)\n",
        "best_model.fit(X_train, y_train)\n",
        "\n",
        "# Predict gender using the trained model\n",
        "y_pred = best_model.predict(X_test)\n",
        "\n",
        "# Evaluate the model\n",
        "accuracy = accuracy_score(y_test, y_pred)\n",
        "print(\"Accuracy:\", accuracy)"
      ],
      "metadata": {
        "colab": {
          "base_uri": "https://localhost:8080/"
        },
        "id": "qFs_UhmceMuM",
        "outputId": "f5ccf287-9a77-477d-df25-d96050a52e08"
      },
      "execution_count": null,
      "outputs": [
        {
          "output_type": "stream",
          "name": "stdout",
          "text": [
            "Best Hyperparameters: {'max_depth': None, 'min_samples_leaf': 1, 'min_samples_split': 10}\n",
            "Accuracy: 0.6\n"
          ]
        }
      ]
    },
    {
      "cell_type": "markdown",
      "source": [
        "Evaluation Metrics"
      ],
      "metadata": {
        "id": "x7_71jxCfRQ7"
      }
    },
    {
      "cell_type": "code",
      "source": [
        "from sklearn.metrics import classification_report\n",
        "\n",
        "# Calculate precision, recall, and F1-score\n",
        "report = classification_report(y_test, y_pred)\n",
        "\n",
        "# Print the classification report\n",
        "print(\"Classification Report:\")\n",
        "print(report)\n"
      ],
      "metadata": {
        "colab": {
          "base_uri": "https://localhost:8080/"
        },
        "id": "0Ef07ZMGfQ2Q",
        "outputId": "da6fe373-83bd-4cbf-c888-b94fc9db7039"
      },
      "execution_count": null,
      "outputs": [
        {
          "output_type": "stream",
          "name": "stdout",
          "text": [
            "Classification Report:\n",
            "              precision    recall  f1-score   support\n",
            "\n",
            "           0       0.53      1.00      0.69         9\n",
            "           1       1.00      0.27      0.43        11\n",
            "\n",
            "    accuracy                           0.60        20\n",
            "   macro avg       0.76      0.64      0.56        20\n",
            "weighted avg       0.79      0.60      0.55        20\n",
            "\n"
          ]
        }
      ]
    },
    {
      "cell_type": "code",
      "source": [
        "# Predict gender using the trained model\n",
        "predicted_genders = model.predict(features)\n",
        "\n",
        "# Print the predicted genders\n",
        "for i in range(len(predicted_genders)):\n",
        "    if predicted_genders[i] == 1:\n",
        "        print(f\"Audio {data[i, 0]} is a female.\")\n",
        "    else:\n",
        "        print(f\"Audio {data[i, 0]} is a male.\")\n"
      ],
      "metadata": {
        "id": "3xod2uH2fzoa",
        "outputId": "e4943ed4-9ac2-4df1-c026-d7fbeb1419b8",
        "colab": {
          "base_uri": "https://localhost:8080/",
          "height": 201
        }
      },
      "execution_count": 9,
      "outputs": [
        {
          "output_type": "error",
          "ename": "NameError",
          "evalue": "name 'model' is not defined",
          "traceback": [
            "\u001b[0;31m---------------------------------------------------------------------------\u001b[0m",
            "\u001b[0;31mNameError\u001b[0m                                 Traceback (most recent call last)",
            "\u001b[0;32m<ipython-input-9-1677eaaa08b4>\u001b[0m in \u001b[0;36m<cell line: 2>\u001b[0;34m()\u001b[0m\n\u001b[1;32m      1\u001b[0m \u001b[0;31m# Predict gender using the trained model\u001b[0m\u001b[0;34m\u001b[0m\u001b[0;34m\u001b[0m\u001b[0m\n\u001b[0;32m----> 2\u001b[0;31m \u001b[0mpredicted_genders\u001b[0m \u001b[0;34m=\u001b[0m \u001b[0mmodel\u001b[0m\u001b[0;34m.\u001b[0m\u001b[0mpredict\u001b[0m\u001b[0;34m(\u001b[0m\u001b[0mfeatures\u001b[0m\u001b[0;34m)\u001b[0m\u001b[0;34m\u001b[0m\u001b[0;34m\u001b[0m\u001b[0m\n\u001b[0m\u001b[1;32m      3\u001b[0m \u001b[0;34m\u001b[0m\u001b[0m\n\u001b[1;32m      4\u001b[0m \u001b[0;31m# Print the predicted genders\u001b[0m\u001b[0;34m\u001b[0m\u001b[0;34m\u001b[0m\u001b[0m\n\u001b[1;32m      5\u001b[0m \u001b[0;32mfor\u001b[0m \u001b[0mi\u001b[0m \u001b[0;32min\u001b[0m \u001b[0mrange\u001b[0m\u001b[0;34m(\u001b[0m\u001b[0mlen\u001b[0m\u001b[0;34m(\u001b[0m\u001b[0mpredicted_genders\u001b[0m\u001b[0;34m)\u001b[0m\u001b[0;34m)\u001b[0m\u001b[0;34m:\u001b[0m\u001b[0;34m\u001b[0m\u001b[0;34m\u001b[0m\u001b[0m\n",
            "\u001b[0;31mNameError\u001b[0m: name 'model' is not defined"
          ]
        }
      ]
    },
    {
      "cell_type": "markdown",
      "source": [
        "## **Logistic Regression Model Code**"
      ],
      "metadata": {
        "id": "jxDUK6L8pFzq"
      }
    },
    {
      "cell_type": "code",
      "source": [
        "import numpy as np\n",
        "from sklearn.linear_model import LogisticRegression\n",
        "from sklearn.model_selection import train_test_split\n",
        "from sklearn.metrics import accuracy_score\n",
        "\n",
        "# Load data from the text file\n",
        "data = np.loadtxt(\"audio_data.txt\", delimiter=\",\", skiprows=1, dtype=str)\n",
        "\n",
        "# Extract features (mean, std dev, max, min) and labels from the data\n",
        "features = data[:, 2:].astype(float)\n",
        "labels = data[:, 1].astype(int)\n",
        "\n",
        "# Split dataset into training and testing sets\n",
        "X_train, X_test, y_train, y_test = train_test_split(features, labels, test_size=0.2, random_state=20)\n",
        "\n",
        "# Initialize the Logistic Regression classifier\n",
        "model = LogisticRegression(random_state=42)\n",
        "\n",
        "# Train the Logistic Regression model\n",
        "model.fit(X_train, y_train)\n",
        "\n",
        "# Predict gender using the trained model\n",
        "y_pred = model.predict(X_test)\n",
        "\n",
        "# Evaluate the model\n",
        "accuracy = accuracy_score(y_test, y_pred)\n",
        "print(\"Accuracy:\", accuracy)\n"
      ],
      "metadata": {
        "id": "RHvtXSCwo8lw",
        "outputId": "b932bc4f-c45d-4164-e1ed-2b412c4416a7",
        "colab": {
          "base_uri": "https://localhost:8080/"
        }
      },
      "execution_count": 15,
      "outputs": [
        {
          "output_type": "stream",
          "name": "stdout",
          "text": [
            "Accuracy: 0.65\n"
          ]
        }
      ]
    },
    {
      "cell_type": "code",
      "source": [
        "from sklearn.metrics import classification_report\n",
        "\n",
        "# Calculate precision, recall, and F1-score\n",
        "report = classification_report(y_test, y_pred)\n",
        "\n",
        "# Print the classification report\n",
        "print(\"Classification Report:\")\n",
        "print(report)\n"
      ],
      "metadata": {
        "id": "oR3TIhgfo-90",
        "outputId": "69dc0f78-99d3-4126-df3c-e7a56994ca02",
        "colab": {
          "base_uri": "https://localhost:8080/"
        }
      },
      "execution_count": 16,
      "outputs": [
        {
          "output_type": "stream",
          "name": "stdout",
          "text": [
            "Classification Report:\n",
            "              precision    recall  f1-score   support\n",
            "\n",
            "           0       0.67      0.60      0.63        10\n",
            "           1       0.64      0.70      0.67        10\n",
            "\n",
            "    accuracy                           0.65        20\n",
            "   macro avg       0.65      0.65      0.65        20\n",
            "weighted avg       0.65      0.65      0.65        20\n",
            "\n"
          ]
        }
      ]
    },
    {
      "cell_type": "code",
      "source": [
        "# Predict gender using the trained model\n",
        "predicted_genders = model.predict(features)\n",
        "\n",
        "# Print the predicted genders\n",
        "for i in range(len(predicted_genders)):\n",
        "    print(f\"Audio {data[i, 0]} is {'female' if predicted_genders[i] == 1 else 'male'}.\")\n"
      ],
      "metadata": {
        "id": "W5hYn8eBpBvS",
        "outputId": "16cebee3-8de3-4b33-ff0b-48333392529e",
        "colab": {
          "base_uri": "https://localhost:8080/"
        }
      },
      "execution_count": 17,
      "outputs": [
        {
          "output_type": "stream",
          "name": "stdout",
          "text": [
            "Audio female_11.wav is female.\n",
            "Audio male_31.wav is male.\n",
            "Audio female_32.wav is female.\n",
            "Audio female_10.wav is female.\n",
            "Audio male_42.wav is male.\n",
            "Audio male_20.wav is male.\n",
            "Audio male_01.wav is female.\n",
            "Audio female_41.wav is female.\n",
            "Audio female_37.wav is male.\n",
            "Audio male_14.wav is male.\n",
            "Audio female_44.wav is female.\n",
            "Audio male_12.wav is male.\n",
            "Audio male_28.wav is female.\n",
            "Audio male_11.wav is male.\n",
            "Audio male_06.wav is male.\n",
            "Audio male_45.wav is male.\n",
            "Audio female_05.wav is male.\n",
            "Audio female_01.wav is male.\n",
            "Audio male_02.wav is female.\n",
            "Audio female_23.wav is male.\n",
            "Audio male_37.wav is male.\n",
            "Audio female_06.wav is male.\n",
            "Audio female_49.wav is male.\n",
            "Audio female_40.wav is male.\n",
            "Audio female_14.wav is female.\n",
            "Audio female_38.wav is female.\n",
            "Audio female_42.wav is male.\n",
            "Audio male_24.wav is female.\n",
            "Audio male_50.wav is female.\n",
            "Audio male_18.wav is male.\n",
            "Audio female_03.wav is female.\n",
            "Audio male_13.wav is female.\n",
            "Audio female_31.wav is male.\n",
            "Audio female_29.wav is male.\n",
            "Audio female_18.wav is female.\n",
            "Audio male_49.wav is male.\n",
            "Audio female_25.wav is female.\n",
            "Audio female_47.wav is female.\n",
            "Audio male_30.wav is male.\n",
            "Audio male_35.wav is female.\n",
            "Audio male_05.wav is female.\n",
            "Audio female_09.wav is female.\n",
            "Audio male_07.wav is female.\n",
            "Audio female_20.wav is male.\n",
            "Audio female_45.wav is female.\n",
            "Audio male_34.wav is male.\n",
            "Audio male_08.wav is male.\n",
            "Audio female_19.wav is male.\n",
            "Audio male_21.wav is male.\n",
            "Audio female_12.wav is female.\n",
            "Audio female_50.wav is female.\n",
            "Audio male_25.wav is female.\n",
            "Audio male_46.wav is male.\n",
            "Audio male_22.wav is male.\n",
            "Audio male_32.wav is female.\n",
            "Audio female_36.wav is male.\n",
            "Audio female_48.wav is female.\n",
            "Audio female_13.wav is female.\n",
            "Audio male_19.wav is male.\n",
            "Audio male_29.wav is female.\n",
            "Audio male_17.wav is female.\n",
            "Audio male_16.wav is male.\n",
            "Audio male_26.wav is female.\n",
            "Audio female_15.wav is male.\n",
            "Audio female_02.wav is male.\n",
            "Audio male_38.wav is male.\n",
            "Audio male_43.wav is male.\n",
            "Audio male_15.wav is female.\n",
            "Audio female_26.wav is male.\n",
            "Audio female_07.wav is male.\n",
            "Audio female_46.wav is male.\n",
            "Audio female_08.wav is female.\n",
            "Audio female_39.wav is male.\n",
            "Audio female_34.wav is male.\n",
            "Audio male_04.wav is female.\n",
            "Audio female_35.wav is female.\n",
            "Audio male_39.wav is male.\n",
            "Audio female_04.wav is female.\n",
            "Audio male_36.wav is male.\n",
            "Audio male_27.wav is female.\n",
            "Audio female_30.wav is female.\n",
            "Audio male_03.wav is male.\n",
            "Audio female_43.wav is female.\n",
            "Audio male_41.wav is female.\n",
            "Audio female_24.wav is female.\n",
            "Audio female_27.wav is male.\n",
            "Audio male_33.wav is male.\n",
            "Audio male_48.wav is male.\n",
            "Audio male_10.wav is female.\n",
            "Audio male_44.wav is female.\n",
            "Audio male_23.wav is male.\n",
            "Audio female_21.wav is female.\n",
            "Audio male_09.wav is female.\n",
            "Audio male_47.wav is male.\n",
            "Audio male_40.wav is female.\n",
            "Audio female_17.wav is male.\n",
            "Audio female_33.wav is male.\n",
            "Audio female_16.wav is male.\n",
            "Audio female_28.wav is female.\n",
            "Audio female_22.wav is male.\n"
          ]
        }
      ]
    }
  ]
}