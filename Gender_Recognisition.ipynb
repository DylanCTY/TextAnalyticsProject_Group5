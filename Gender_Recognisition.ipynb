{
  "nbformat": 4,
  "nbformat_minor": 0,
  "metadata": {
    "colab": {
      "provenance": [],
      "include_colab_link": true
    },
    "kernelspec": {
      "name": "python3",
      "display_name": "Python 3"
    },
    "language_info": {
      "name": "python"
    }
  },
  "cells": [
    {
      "cell_type": "markdown",
      "metadata": {
        "id": "view-in-github",
        "colab_type": "text"
      },
      "source": [
        "<a href=\"https://colab.research.google.com/github/DylanCTY/TextAnalyticsProject_Group5/blob/main/Gender_Recognisition.ipynb\" target=\"_parent\"><img src=\"https://colab.research.google.com/assets/colab-badge.svg\" alt=\"Open In Colab\"/></a>"
      ]
    },
    {
      "cell_type": "code",
      "source": [
        "!apt install libasound2-dev portaudio19-dev libportaudio2 libportaudiocpp0 ffmpeg"
      ],
      "metadata": {
        "colab": {
          "base_uri": "https://localhost:8080/"
        },
        "id": "DbgltShvc6JX",
        "outputId": "17667c90-1acd-4355-f47f-41fa6174b467"
      },
      "execution_count": null,
      "outputs": [
        {
          "output_type": "stream",
          "name": "stdout",
          "text": [
            "Reading package lists... Done\n",
            "Building dependency tree... Done\n",
            "Reading state information... Done\n",
            "libasound2-dev is already the newest version (1.2.6.1-1ubuntu1).\n",
            "ffmpeg is already the newest version (7:4.4.2-0ubuntu0.22.04.1).\n",
            "Suggested packages:\n",
            "  portaudio19-doc\n",
            "The following NEW packages will be installed:\n",
            "  libportaudio2 libportaudiocpp0 portaudio19-dev\n",
            "0 upgraded, 3 newly installed, 0 to remove and 45 not upgraded.\n",
            "Need to get 188 kB of archives.\n",
            "After this operation, 927 kB of additional disk space will be used.\n",
            "Get:1 http://archive.ubuntu.com/ubuntu jammy/universe amd64 libportaudio2 amd64 19.6.0-1.1 [65.3 kB]\n",
            "Get:2 http://archive.ubuntu.com/ubuntu jammy/universe amd64 libportaudiocpp0 amd64 19.6.0-1.1 [16.1 kB]\n",
            "Get:3 http://archive.ubuntu.com/ubuntu jammy/universe amd64 portaudio19-dev amd64 19.6.0-1.1 [106 kB]\n",
            "Fetched 188 kB in 0s (1,717 kB/s)\n",
            "Selecting previously unselected package libportaudio2:amd64.\n",
            "(Reading database ... 121920 files and directories currently installed.)\n",
            "Preparing to unpack .../libportaudio2_19.6.0-1.1_amd64.deb ...\n",
            "Unpacking libportaudio2:amd64 (19.6.0-1.1) ...\n",
            "Selecting previously unselected package libportaudiocpp0:amd64.\n",
            "Preparing to unpack .../libportaudiocpp0_19.6.0-1.1_amd64.deb ...\n",
            "Unpacking libportaudiocpp0:amd64 (19.6.0-1.1) ...\n",
            "Selecting previously unselected package portaudio19-dev:amd64.\n",
            "Preparing to unpack .../portaudio19-dev_19.6.0-1.1_amd64.deb ...\n",
            "Unpacking portaudio19-dev:amd64 (19.6.0-1.1) ...\n",
            "Setting up libportaudio2:amd64 (19.6.0-1.1) ...\n",
            "Setting up libportaudiocpp0:amd64 (19.6.0-1.1) ...\n",
            "Setting up portaudio19-dev:amd64 (19.6.0-1.1) ...\n",
            "Processing triggers for libc-bin (2.35-0ubuntu3.4) ...\n",
            "/sbin/ldconfig.real: /usr/local/lib/libtbbbind_2_0.so.3 is not a symbolic link\n",
            "\n",
            "/sbin/ldconfig.real: /usr/local/lib/libtbbmalloc.so.2 is not a symbolic link\n",
            "\n",
            "/sbin/ldconfig.real: /usr/local/lib/libtbbmalloc_proxy.so.2 is not a symbolic link\n",
            "\n",
            "/sbin/ldconfig.real: /usr/local/lib/libtbbbind.so.3 is not a symbolic link\n",
            "\n",
            "/sbin/ldconfig.real: /usr/local/lib/libtbbbind_2_5.so.3 is not a symbolic link\n",
            "\n",
            "/sbin/ldconfig.real: /usr/local/lib/libtbb.so.12 is not a symbolic link\n",
            "\n"
          ]
        }
      ]
    },
    {
      "cell_type": "code",
      "source": [
        "!pip install PyAudio"
      ],
      "metadata": {
        "colab": {
          "base_uri": "https://localhost:8080/"
        },
        "id": "0Z1Q_BbbdN8Q",
        "outputId": "2218f7b9-6c4a-4fee-abe5-4e5e1d2ac477"
      },
      "execution_count": null,
      "outputs": [
        {
          "output_type": "stream",
          "name": "stdout",
          "text": [
            "Collecting PyAudio\n",
            "  Downloading PyAudio-0.2.14.tar.gz (47 kB)\n",
            "\u001b[?25l     \u001b[90m━━━━━━━━━━━━━━━━━━━━━━━━━━━━━━━━━━━━━━━━\u001b[0m \u001b[32m0.0/47.1 kB\u001b[0m \u001b[31m?\u001b[0m eta \u001b[36m-:--:--\u001b[0m\r\u001b[2K     \u001b[90m━━━━━━━━━━━━━━━━━━━━━━━━━━━━━━━━━━━━━━━━\u001b[0m \u001b[32m47.1/47.1 kB\u001b[0m \u001b[31m2.0 MB/s\u001b[0m eta \u001b[36m0:00:00\u001b[0m\n",
            "\u001b[?25h  Installing build dependencies ... \u001b[?25l\u001b[?25hdone\n",
            "  Getting requirements to build wheel ... \u001b[?25l\u001b[?25hdone\n",
            "  Preparing metadata (pyproject.toml) ... \u001b[?25l\u001b[?25hdone\n",
            "Building wheels for collected packages: PyAudio\n",
            "  Building wheel for PyAudio (pyproject.toml) ... \u001b[?25l\u001b[?25hdone\n",
            "  Created wheel for PyAudio: filename=PyAudio-0.2.14-cp310-cp310-linux_x86_64.whl size=63858 sha256=e5ee1eb7decee771a3c700c7f09696d0c24909f403319802f30174fbfe6f55f4\n",
            "  Stored in directory: /root/.cache/pip/wheels/d6/21/f4/0b51d41ba79e51b16295cbb096ec49f334792814d545b508c5\n",
            "Successfully built PyAudio\n",
            "Installing collected packages: PyAudio\n",
            "Successfully installed PyAudio-0.2.14\n"
          ]
        }
      ]
    },
    {
      "cell_type": "markdown",
      "source": [
        "Build Gender Prediction Model using SVM Classification Based on Mean, Min, Max Frequency"
      ],
      "metadata": {
        "id": "uxBIWBcFrk27"
      }
    },
    {
      "cell_type": "code",
      "execution_count": null,
      "metadata": {
        "id": "QSFr3Z6hVejb"
      },
      "outputs": [],
      "source": [
        "import pandas as pd\n",
        "from sklearn.model_selection import train_test_split\n",
        "from sklearn.model_selection import cross_val_score\n",
        "from sklearn import metrics\n",
        "from sklearn.svm import SVC\n",
        "import matplotlib.pyplot as plt\n",
        "import numpy as np\n",
        "import pyaudio\n",
        "import wave\n",
        "import os\n",
        "import platform\n",
        "\n",
        "\n",
        "\n",
        "def import_and_clean():\n",
        "    df = pd.read_csv('training_data.csv', header=0)\n",
        "\n",
        "    df = df[['meanfun' , 'minfun', 'maxfun','label']]\n",
        "    df['label'] = df['label'].map({'female': 0, 'male': 1}).astype(int)\n",
        "    return df\n",
        "\n",
        "def parameter_tuning_svm(input_df):\n",
        "    x = input_df['meanfun' , 'minfun', 'maxfun'].values\n",
        "    y = input_df['label'].values\n",
        "   #svc = SVC(kernel='linear')\n",
        "\n",
        "    #segmenting data set and cross validation\n",
        "    training, testing, training_result, testing_result = train_test_split(x, y, test_size=0.4, random_state=1)\n",
        "    # scores = cross_val_score(svc, training, training_result, cv=10, scoring='accuracy')\n",
        "    # print scores.mean()\n",
        "\n",
        "    #Tuning C value\n",
        "    c_vals = list(range(1,30))\n",
        "    accuracy_vals = []\n",
        "    for val in c_vals:\n",
        "        svc = SVC(kernel='linear', C=val)\n",
        "        scores = cross_val_score(svc, training, training_result, cv=10, scoring='accuracy')\n",
        "        accuracy_vals.append(scores.mean())\n",
        "\n",
        "    # plt.plot(c_vals, accuracy_vals)\n",
        "    # plt.xticks(np.arange(0,30,2))\n",
        "    # plt.xlabel('C values')\n",
        "    # plt.ylabel('Mean Accuracies')\n",
        "    # plt.show()\n",
        "\n",
        "    optimal_cval = c_vals[accuracy_vals.index(max(accuracy_vals))]\n",
        "    print(optimal_cval)\n",
        "\n",
        "    #gamma value tuning\n",
        "    gamma_vals = [0.00001,0.0001,0.001,0.01,0.1]\n",
        "    accuracy_vals = []\n",
        "    for g in gamma_vals:\n",
        "        svc = SVC(kernel='linear', C=optimal_cval, gamma=g)\n",
        "        scores = cross_val_score(svc, training, training_result, cv=10, scoring='accuracy')\n",
        "        accuracy_vals.append(scores.mean())\n",
        "    #\n",
        "    # plt.plot(gamma_vals, accuracy_vals)\n",
        "    # plt.xlabel('Gamma Values')\n",
        "    # plt.ylabel('Mean Accuracies')\n",
        "    # plt.show()\n",
        "\n",
        "    optimal_gamma = gamma_vals[accuracy_vals.index(max(accuracy_vals))]\n",
        "    #print optimal_gamma\n",
        "\n",
        "    svc = SVC(kernel='linear', C=optimal_cval, gamma=optimal_gamma)\n",
        "    svc.fit(training, training_result)\n",
        "    testing_predict = svc.predict(testing)\n",
        "    #print metrics.accuracy_score(testing_predict, testing_result)\n",
        "\n",
        "    svc = SVC(kernel='linear', C=optimal_cval, gamma=optimal_gamma)\n",
        "    svc.fit(x,y)\n",
        "    return svc\n",
        "\n"
      ]
    },
    {
      "cell_type": "code",
      "source": [
        "#check training data\n",
        "x = df[['meanfun' , 'minfun', 'maxfun']].values\n",
        "x"
      ],
      "metadata": {
        "colab": {
          "base_uri": "https://localhost:8080/"
        },
        "id": "hLS9T75noDG5",
        "outputId": "a8193c11-83bd-4e8b-a3aa-0563982d8c02"
      },
      "execution_count": null,
      "outputs": [
        {
          "output_type": "execute_result",
          "data": {
            "text/plain": [
              "array([[0.08427911, 0.01570167, 0.27586207],\n",
              "       [0.10793655, 0.01582591, 0.25      ],\n",
              "       [0.09870626, 0.01565558, 0.27118644],\n",
              "       ...,\n",
              "       [0.20991768, 0.03950617, 0.27586207],\n",
              "       [0.172375  , 0.03448276, 0.25      ],\n",
              "       [0.18560693, 0.06225681, 0.27118644]])"
            ]
          },
          "metadata": {},
          "execution_count": 55
        }
      ]
    },
    {
      "cell_type": "code",
      "source": [
        "#import package to extract sound\n",
        "#still not working on my pc so i just tried using the sample output.txt, will need to check deeper\n",
        "#should have produced the output.txt from the test_audio.wav\n",
        "if __name__ == '__main__':\n",
        "    if platform.system() == 'Linux':\n",
        "        os.system('\"Praat.exe\" --run extract_freq_info.praat')\n",
        "    elif platform.system() == 'Windows':\n",
        "        os.system('\"./Praat\" --run extract_freq_info.praat')\n",
        "    else:\n",
        "        os.system('\"Praat.app/Contents/MacOS/Praat\" --run extract_freq_info.praat')"
      ],
      "metadata": {
        "id": "cqgFsZ71fe6d"
      },
      "execution_count": null,
      "outputs": []
    },
    {
      "cell_type": "code",
      "source": [
        "#produce the mean, min, and max frequency\n",
        "file = open('output.txt','r')\n",
        "values = file.readline()\n",
        "values = values.split(', ')\n",
        "values = np.array(values, dtype=np.float64)\n",
        "values"
      ],
      "metadata": {
        "colab": {
          "base_uri": "https://localhost:8080/"
        },
        "id": "nTiGmR0emX2y",
        "outputId": "2e1debaa-ab91-4038-ddda-59398c9bc0d6"
      },
      "execution_count": null,
      "outputs": [
        {
          "output_type": "execute_result",
          "data": {
            "text/plain": [
              "array([129.87966696, 103.80061643, 144.31090385])"
            ]
          },
          "metadata": {},
          "execution_count": 66
        }
      ]
    },
    {
      "cell_type": "code",
      "source": [
        "#complete code to predict the gender\n",
        "if __name__ == '__main__':\n",
        "    if platform.system() == 'Linux':\n",
        "        os.system('\"Praat.exe\" --run extract_freq_info.praat')\n",
        "    elif platform.system() == 'Windows':\n",
        "        os.system('\"./Praat\" --run extract_freq_info.praat')\n",
        "    else:\n",
        "        os.system('\"Praat.app/Contents/MacOS/Praat\" --run extract_freq_info.praat')\n",
        "\n",
        "    #import output file (mean,min,max freq)\n",
        "    file = open('output.txt','r')\n",
        "    values = file.readline()\n",
        "    values = values.split(', ')\n",
        "\n",
        "    #train model\n",
        "    print(\"training and tuning svm\")\n",
        "    df = import_and_clean()\n",
        "    tuned_svm = parameter_tuning_svm(df)\n",
        "\n",
        "    #predict gender\n",
        "    values = np.array(values, dtype=np.float64)\n",
        "    values = values.reshape(1, -1)\n",
        "    predictions = tuned_svm.predict(values)\n",
        "    if predictions == 0:\n",
        "        print(\"you are a female\")\n",
        "    else:\n",
        "        print(\"you are a male\")"
      ],
      "metadata": {
        "id": "CI3k97I8f7CN",
        "colab": {
          "base_uri": "https://localhost:8080/"
        },
        "outputId": "64589fe5-2568-4057-b59a-477b0b4b8e0c"
      },
      "execution_count": null,
      "outputs": [
        {
          "output_type": "stream",
          "name": "stdout",
          "text": [
            "training and tuning svm\n",
            "18\n",
            "you are a female\n"
          ]
        }
      ]
    }
  ]
}